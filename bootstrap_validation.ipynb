{
 "cells": [
  {
   "cell_type": "markdown",
   "metadata": {},
   "source": [
    "# Bootstrap optimism-corrected validation"
   ]
  },
  {
   "cell_type": "code",
   "execution_count": 1,
   "metadata": {},
   "outputs": [],
   "source": [
    "%matplotlib inline\n",
    "import numpy as np\n",
    "import pandas as pd\n",
    "import scipy.stats\n",
    "import scipy.special\n",
    "import statsmodels.api as sm\n",
    "import statsmodels.formula.api as smf"
   ]
  },
  {
   "cell_type": "markdown",
   "metadata": {},
   "source": [
    "## Original sample"
   ]
  },
  {
   "cell_type": "code",
   "execution_count": 2,
   "metadata": {},
   "outputs": [
    {
     "data": {
      "text/html": [
       "<div>\n",
       "<style scoped>\n",
       "    .dataframe tbody tr th:only-of-type {\n",
       "        vertical-align: middle;\n",
       "    }\n",
       "\n",
       "    .dataframe tbody tr th {\n",
       "        vertical-align: top;\n",
       "    }\n",
       "\n",
       "    .dataframe thead th {\n",
       "        text-align: right;\n",
       "    }\n",
       "</style>\n",
       "<table border=\"1\" class=\"dataframe\">\n",
       "  <thead>\n",
       "    <tr style=\"text-align: right;\">\n",
       "      <th></th>\n",
       "      <th>x</th>\n",
       "      <th>z</th>\n",
       "      <th>p</th>\n",
       "      <th>y</th>\n",
       "    </tr>\n",
       "  </thead>\n",
       "  <tbody>\n",
       "    <tr>\n",
       "      <th>count</th>\n",
       "      <td>500.000000</td>\n",
       "      <td>500.000000</td>\n",
       "      <td>500.000000</td>\n",
       "      <td>500.000000</td>\n",
       "    </tr>\n",
       "    <tr>\n",
       "      <th>mean</th>\n",
       "      <td>-0.021771</td>\n",
       "      <td>-1.021771</td>\n",
       "      <td>0.302191</td>\n",
       "      <td>0.300000</td>\n",
       "    </tr>\n",
       "    <tr>\n",
       "      <th>std</th>\n",
       "      <td>1.044361</td>\n",
       "      <td>1.044361</td>\n",
       "      <td>0.185487</td>\n",
       "      <td>0.458717</td>\n",
       "    </tr>\n",
       "    <tr>\n",
       "      <th>min</th>\n",
       "      <td>-3.420272</td>\n",
       "      <td>-4.420272</td>\n",
       "      <td>0.011888</td>\n",
       "      <td>0.000000</td>\n",
       "    </tr>\n",
       "    <tr>\n",
       "      <th>25%</th>\n",
       "      <td>-0.788795</td>\n",
       "      <td>-1.788795</td>\n",
       "      <td>0.143221</td>\n",
       "      <td>0.000000</td>\n",
       "    </tr>\n",
       "    <tr>\n",
       "      <th>50%</th>\n",
       "      <td>0.016913</td>\n",
       "      <td>-0.983087</td>\n",
       "      <td>0.272280</td>\n",
       "      <td>0.000000</td>\n",
       "    </tr>\n",
       "    <tr>\n",
       "      <th>75%</th>\n",
       "      <td>0.675638</td>\n",
       "      <td>-0.324362</td>\n",
       "      <td>0.419613</td>\n",
       "      <td>1.000000</td>\n",
       "    </tr>\n",
       "    <tr>\n",
       "      <th>max</th>\n",
       "      <td>3.271772</td>\n",
       "      <td>2.271772</td>\n",
       "      <td>0.906512</td>\n",
       "      <td>1.000000</td>\n",
       "    </tr>\n",
       "  </tbody>\n",
       "</table>\n",
       "</div>"
      ],
      "text/plain": [
       "                x           z           p           y\n",
       "count  500.000000  500.000000  500.000000  500.000000\n",
       "mean    -0.021771   -1.021771    0.302191    0.300000\n",
       "std      1.044361    1.044361    0.185487    0.458717\n",
       "min     -3.420272   -4.420272    0.011888    0.000000\n",
       "25%     -0.788795   -1.788795    0.143221    0.000000\n",
       "50%      0.016913   -0.983087    0.272280    0.000000\n",
       "75%      0.675638   -0.324362    0.419613    1.000000\n",
       "max      3.271772    2.271772    0.906512    1.000000"
      ]
     },
     "execution_count": 2,
     "metadata": {},
     "output_type": "execute_result"
    }
   ],
   "source": [
    "n = 500\n",
    "df = pd.DataFrame()\n",
    "df['x'] = np.random.randn(n)\n",
    "df['z'] = -1.0 + 1.0 * df.x\n",
    "df['p'] = scipy.special.expit(df.z)\n",
    "df['y'] = scipy.stats.bernoulli.rvs(df.p)\n",
    "\n",
    "df.describe()"
   ]
  },
  {
   "cell_type": "markdown",
   "metadata": {},
   "source": [
    "## Bootstrap validate logit model"
   ]
  },
  {
   "cell_type": "code",
   "execution_count": 3,
   "metadata": {},
   "outputs": [],
   "source": [
    "# McFadden's Pseudo R^2\n",
    "def pr2(obs, null_probs, model_probs):\n",
    "    ll_null = np.sum(scipy.stats.bernoulli.logpmf(obs, null_probs))\n",
    "    ll_model = np.sum(scipy.stats.bernoulli.logpmf(obs, model_probs))\n",
    "    return 1 - ll_model / ll_null"
   ]
  },
  {
   "cell_type": "markdown",
   "metadata": {},
   "source": [
    "### Estimate optimism"
   ]
  },
  {
   "cell_type": "code",
   "execution_count": 4,
   "metadata": {},
   "outputs": [],
   "source": [
    "B = 2000\n",
    "optimism = np.zeros(B)\n",
    "\n",
    "for bi in range(B):\n",
    "    b = df.sample(frac=1.0, replace=True)\n",
    "    logit = smf.glm('y ~ x', family=sm.families.Binomial(), data=b).fit()\n",
    "    \n",
    "    null_probs = np.repeat(b.y.mean(), len(df))\n",
    "    pr2_boot = pr2(b.y, null_probs, logit.predict(b))\n",
    "    pr2_orig = pr2(df.y, null_probs, logit.predict(df))\n",
    "    optimism[bi] = pr2_boot - pr2_orig"
   ]
  },
  {
   "cell_type": "markdown",
   "metadata": {},
   "source": [
    "### Optimism-corrected Pseudo R^2"
   ]
  },
  {
   "cell_type": "code",
   "execution_count": 5,
   "metadata": {},
   "outputs": [
    {
     "name": "stdout",
     "output_type": "stream",
     "text": [
      "Mean optimism 0.003799143286195928\n",
      "Apparent PR2 0.15379689114238015\n",
      "Optimism-corrected PR2 0.14999774785618422\n"
     ]
    }
   ],
   "source": [
    "final = smf.glm('y ~ x', family=sm.families.Binomial(), data=df).fit()\n",
    "pr2_apparent = pr2(df.y, np.repeat(df.y.mean(), len(df)), final.predict(df))\n",
    "\n",
    "print('Mean optimism', np.mean(optimism))\n",
    "print('Apparent PR2', pr2_apparent)\n",
    "print('Optimism-corrected PR2', pr2_apparent - np.mean(optimism))"
   ]
  }
 ],
 "metadata": {
  "kernelspec": {
   "display_name": "Python 3",
   "language": "python",
   "name": "python3"
  },
  "language_info": {
   "codemirror_mode": {
    "name": "ipython",
    "version": 3
   },
   "file_extension": ".py",
   "mimetype": "text/x-python",
   "name": "python",
   "nbconvert_exporter": "python",
   "pygments_lexer": "ipython3",
   "version": "3.6.3"
  }
 },
 "nbformat": 4,
 "nbformat_minor": 2
}
